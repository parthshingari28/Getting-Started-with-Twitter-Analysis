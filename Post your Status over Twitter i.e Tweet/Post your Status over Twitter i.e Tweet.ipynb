{
 "cells": [
  {
   "cell_type": "markdown",
   "metadata": {},
   "source": [
    "# Post your Status over Twitter i.e Tweet\n"
   ]
  },
  {
   "cell_type": "code",
   "execution_count": 17,
   "metadata": {},
   "outputs": [
    {
     "name": "stdout",
     "output_type": "stream",
     "text": [
      "Requirement already satisfied: tweepy in c:\\programdata\\anaconda3\\lib\\site-packages (3.10.0)\n",
      "Requirement already satisfied: requests[socks]>=2.11.1 in c:\\programdata\\anaconda3\\lib\\site-packages (from tweepy) (2.22.0)\n",
      "Requirement already satisfied: requests-oauthlib>=0.7.0 in c:\\programdata\\anaconda3\\lib\\site-packages (from tweepy) (1.3.0)\n",
      "Requirement already satisfied: six>=1.10.0 in c:\\programdata\\anaconda3\\lib\\site-packages (from tweepy) (1.12.0)\n",
      "Requirement already satisfied: idna<2.9,>=2.5 in c:\\programdata\\anaconda3\\lib\\site-packages (from requests[socks]>=2.11.1->tweepy) (2.8)\n",
      "Requirement already satisfied: urllib3!=1.25.0,!=1.25.1,<1.26,>=1.21.1 in c:\\programdata\\anaconda3\\lib\\site-packages (from requests[socks]>=2.11.1->tweepy) (1.24.2)\n",
      "Requirement already satisfied: certifi>=2017.4.17 in c:\\programdata\\anaconda3\\lib\\site-packages (from requests[socks]>=2.11.1->tweepy) (2019.6.16)\n",
      "Requirement already satisfied: chardet<3.1.0,>=3.0.2 in c:\\programdata\\anaconda3\\lib\\site-packages (from requests[socks]>=2.11.1->tweepy) (3.0.4)\n",
      "Requirement already satisfied: PySocks!=1.5.7,>=1.5.6; extra == \"socks\" in c:\\programdata\\anaconda3\\lib\\site-packages (from requests[socks]>=2.11.1->tweepy) (1.7.0)\n",
      "Requirement already satisfied: oauthlib>=3.0.0 in c:\\programdata\\anaconda3\\lib\\site-packages (from requests-oauthlib>=0.7.0->tweepy) (3.1.0)\n",
      "Note: you may need to restart the kernel to use updated packages.\n"
     ]
    }
   ],
   "source": [
    "pip install tweepy"
   ]
  },
  {
   "cell_type": "code",
   "execution_count": 18,
   "metadata": {},
   "outputs": [],
   "source": [
    "import tweepy\n",
    "import webbrowser\n",
    "import time"
   ]
  },
  {
   "cell_type": "code",
   "execution_count": 23,
   "metadata": {},
   "outputs": [],
   "source": [
    "api_key = \"1jFASwNyVpC0EAuj8ENTsA6Bw\"\n",
    "api_secret =\"OdmjdzDDKveLnbRvAckbMNTKa1VYEcMHxdAFoyIaDI7uq9PJp0\"\n",
    "access_key = \"1016332488694788101-DtX1ZApb6R2tdJuy1XPK4rn5oYfV6h\"\n",
    "access_secret = \"MPGHtEMknvEFKsWJ5TbnPWUdoFfkcBl1ZwblBAV9Yu31t\""
   ]
  },
  {
   "cell_type": "code",
   "execution_count": 24,
   "metadata": {},
   "outputs": [],
   "source": [
    "#Authorizing api key and api secret key\n",
    "auth = tweepy.OAuthHandler(api_key, api_secret) \n",
    "#Access to user's access key and access secret key\n",
    "auth.set_access_token(access_key, access_secret) \n",
    "#calling api\n",
    "api = tweepy.API(auth) "
   ]
  },
  {
   "cell_type": "code",
   "execution_count": 25,
   "metadata": {},
   "outputs": [],
   "source": [
    "me = api.me()"
   ]
  },
  {
   "cell_type": "code",
   "execution_count": 26,
   "metadata": {},
   "outputs": [
    {
     "name": "stdout",
     "output_type": "stream",
     "text": [
      "ParthShingari\n"
     ]
    }
   ],
   "source": [
    "print(me.screen_name)"
   ]
  },
  {
   "cell_type": "code",
   "execution_count": 27,
   "metadata": {},
   "outputs": [],
   "source": [
    "new_status = api.update_status(\"What's up everyone! @ParthShinagri \")"
   ]
  },
  {
   "cell_type": "code",
   "execution_count": 30,
   "metadata": {},
   "outputs": [
    {
     "data": {
      "text/plain": [
       "Status(_api=<tweepy.api.API object at 0x0000025A9E595828>, _json={'created_at': 'Tue Feb 16 06:13:28 +0000 2021', 'id': 1361559301974851591, 'id_str': '1361559301974851591', 'text': \"What's up everyone! @ParthShinagri\", 'truncated': False, 'entities': {'hashtags': [], 'symbols': [], 'user_mentions': [], 'urls': []}, 'source': '', 'in_reply_to_status_id': None, 'in_reply_to_status_id_str': None, 'in_reply_to_user_id': None, 'in_reply_to_user_id_str': None, 'in_reply_to_screen_name': None, 'user': {'id': 1016332488694788101, 'id_str': '1016332488694788101', 'name': 'Parth Shingari', 'screen_name': 'ParthShingari', 'location': 'Dehradun , India', 'description': 'Data Science Enthusiast || Developer by heart || Engineer in making 🎓', 'url': 'https://t.co/y8xX8QOX5B', 'entities': {'url': {'urls': [{'url': 'https://t.co/y8xX8QOX5B', 'expanded_url': 'https://www.linkedin.com/in/parth-shingari-28ps2000/', 'display_url': 'linkedin.com/in/parth-shing…', 'indices': [0, 23]}]}, 'description': {'urls': []}}, 'protected': False, 'followers_count': 68, 'friends_count': 127, 'listed_count': 0, 'created_at': 'Mon Jul 09 14:45:22 +0000 2018', 'favourites_count': 1840, 'utc_offset': None, 'time_zone': None, 'geo_enabled': True, 'verified': False, 'statuses_count': 1273, 'lang': None, 'contributors_enabled': False, 'is_translator': False, 'is_translation_enabled': False, 'profile_background_color': 'F5F8FA', 'profile_background_image_url': None, 'profile_background_image_url_https': None, 'profile_background_tile': False, 'profile_image_url': 'http://pbs.twimg.com/profile_images/1355942351437324288/CueGQXmB_normal.jpg', 'profile_image_url_https': 'https://pbs.twimg.com/profile_images/1355942351437324288/CueGQXmB_normal.jpg', 'profile_banner_url': 'https://pbs.twimg.com/profile_banners/1016332488694788101/1610483677', 'profile_link_color': '1DA1F2', 'profile_sidebar_border_color': 'C0DEED', 'profile_sidebar_fill_color': 'DDEEF6', 'profile_text_color': '333333', 'profile_use_background_image': True, 'has_extended_profile': True, 'default_profile': True, 'default_profile_image': False, 'following': False, 'follow_request_sent': False, 'notifications': False, 'translator_type': 'none'}, 'geo': None, 'coordinates': None, 'place': None, 'contributors': None, 'is_quote_status': False, 'retweet_count': 0, 'favorite_count': 0, 'favorited': False, 'retweeted': False, 'lang': 'en'}, created_at=datetime.datetime(2021, 2, 16, 6, 13, 28), id=1361559301974851591, id_str='1361559301974851591', text=\"What's up everyone! @ParthShinagri\", truncated=False, entities={'hashtags': [], 'symbols': [], 'user_mentions': [], 'urls': []}, source='', source_url=None, in_reply_to_status_id=None, in_reply_to_status_id_str=None, in_reply_to_user_id=None, in_reply_to_user_id_str=None, in_reply_to_screen_name=None, author=User(_api=<tweepy.api.API object at 0x0000025A9E595828>, _json={'id': 1016332488694788101, 'id_str': '1016332488694788101', 'name': 'Parth Shingari', 'screen_name': 'ParthShingari', 'location': 'Dehradun , India', 'description': 'Data Science Enthusiast || Developer by heart || Engineer in making 🎓', 'url': 'https://t.co/y8xX8QOX5B', 'entities': {'url': {'urls': [{'url': 'https://t.co/y8xX8QOX5B', 'expanded_url': 'https://www.linkedin.com/in/parth-shingari-28ps2000/', 'display_url': 'linkedin.com/in/parth-shing…', 'indices': [0, 23]}]}, 'description': {'urls': []}}, 'protected': False, 'followers_count': 68, 'friends_count': 127, 'listed_count': 0, 'created_at': 'Mon Jul 09 14:45:22 +0000 2018', 'favourites_count': 1840, 'utc_offset': None, 'time_zone': None, 'geo_enabled': True, 'verified': False, 'statuses_count': 1273, 'lang': None, 'contributors_enabled': False, 'is_translator': False, 'is_translation_enabled': False, 'profile_background_color': 'F5F8FA', 'profile_background_image_url': None, 'profile_background_image_url_https': None, 'profile_background_tile': False, 'profile_image_url': 'http://pbs.twimg.com/profile_images/1355942351437324288/CueGQXmB_normal.jpg', 'profile_image_url_https': 'https://pbs.twimg.com/profile_images/1355942351437324288/CueGQXmB_normal.jpg', 'profile_banner_url': 'https://pbs.twimg.com/profile_banners/1016332488694788101/1610483677', 'profile_link_color': '1DA1F2', 'profile_sidebar_border_color': 'C0DEED', 'profile_sidebar_fill_color': 'DDEEF6', 'profile_text_color': '333333', 'profile_use_background_image': True, 'has_extended_profile': True, 'default_profile': True, 'default_profile_image': False, 'following': False, 'follow_request_sent': False, 'notifications': False, 'translator_type': 'none'}, id=1016332488694788101, id_str='1016332488694788101', name='Parth Shingari', screen_name='ParthShingari', location='Dehradun , India', description='Data Science Enthusiast || Developer by heart || Engineer in making 🎓', url='https://t.co/y8xX8QOX5B', entities={'url': {'urls': [{'url': 'https://t.co/y8xX8QOX5B', 'expanded_url': 'https://www.linkedin.com/in/parth-shingari-28ps2000/', 'display_url': 'linkedin.com/in/parth-shing…', 'indices': [0, 23]}]}, 'description': {'urls': []}}, protected=False, followers_count=68, friends_count=127, listed_count=0, created_at=datetime.datetime(2018, 7, 9, 14, 45, 22), favourites_count=1840, utc_offset=None, time_zone=None, geo_enabled=True, verified=False, statuses_count=1273, lang=None, contributors_enabled=False, is_translator=False, is_translation_enabled=False, profile_background_color='F5F8FA', profile_background_image_url=None, profile_background_image_url_https=None, profile_background_tile=False, profile_image_url='http://pbs.twimg.com/profile_images/1355942351437324288/CueGQXmB_normal.jpg', profile_image_url_https='https://pbs.twimg.com/profile_images/1355942351437324288/CueGQXmB_normal.jpg', profile_banner_url='https://pbs.twimg.com/profile_banners/1016332488694788101/1610483677', profile_link_color='1DA1F2', profile_sidebar_border_color='C0DEED', profile_sidebar_fill_color='DDEEF6', profile_text_color='333333', profile_use_background_image=True, has_extended_profile=True, default_profile=True, default_profile_image=False, following=False, follow_request_sent=False, notifications=False, translator_type='none'), user=User(_api=<tweepy.api.API object at 0x0000025A9E595828>, _json={'id': 1016332488694788101, 'id_str': '1016332488694788101', 'name': 'Parth Shingari', 'screen_name': 'ParthShingari', 'location': 'Dehradun , India', 'description': 'Data Science Enthusiast || Developer by heart || Engineer in making 🎓', 'url': 'https://t.co/y8xX8QOX5B', 'entities': {'url': {'urls': [{'url': 'https://t.co/y8xX8QOX5B', 'expanded_url': 'https://www.linkedin.com/in/parth-shingari-28ps2000/', 'display_url': 'linkedin.com/in/parth-shing…', 'indices': [0, 23]}]}, 'description': {'urls': []}}, 'protected': False, 'followers_count': 68, 'friends_count': 127, 'listed_count': 0, 'created_at': 'Mon Jul 09 14:45:22 +0000 2018', 'favourites_count': 1840, 'utc_offset': None, 'time_zone': None, 'geo_enabled': True, 'verified': False, 'statuses_count': 1273, 'lang': None, 'contributors_enabled': False, 'is_translator': False, 'is_translation_enabled': False, 'profile_background_color': 'F5F8FA', 'profile_background_image_url': None, 'profile_background_image_url_https': None, 'profile_background_tile': False, 'profile_image_url': 'http://pbs.twimg.com/profile_images/1355942351437324288/CueGQXmB_normal.jpg', 'profile_image_url_https': 'https://pbs.twimg.com/profile_images/1355942351437324288/CueGQXmB_normal.jpg', 'profile_banner_url': 'https://pbs.twimg.com/profile_banners/1016332488694788101/1610483677', 'profile_link_color': '1DA1F2', 'profile_sidebar_border_color': 'C0DEED', 'profile_sidebar_fill_color': 'DDEEF6', 'profile_text_color': '333333', 'profile_use_background_image': True, 'has_extended_profile': True, 'default_profile': True, 'default_profile_image': False, 'following': False, 'follow_request_sent': False, 'notifications': False, 'translator_type': 'none'}, id=1016332488694788101, id_str='1016332488694788101', name='Parth Shingari', screen_name='ParthShingari', location='Dehradun , India', description='Data Science Enthusiast || Developer by heart || Engineer in making 🎓', url='https://t.co/y8xX8QOX5B', entities={'url': {'urls': [{'url': 'https://t.co/y8xX8QOX5B', 'expanded_url': 'https://www.linkedin.com/in/parth-shingari-28ps2000/', 'display_url': 'linkedin.com/in/parth-shing…', 'indices': [0, 23]}]}, 'description': {'urls': []}}, protected=False, followers_count=68, friends_count=127, listed_count=0, created_at=datetime.datetime(2018, 7, 9, 14, 45, 22), favourites_count=1840, utc_offset=None, time_zone=None, geo_enabled=True, verified=False, statuses_count=1273, lang=None, contributors_enabled=False, is_translator=False, is_translation_enabled=False, profile_background_color='F5F8FA', profile_background_image_url=None, profile_background_image_url_https=None, profile_background_tile=False, profile_image_url='http://pbs.twimg.com/profile_images/1355942351437324288/CueGQXmB_normal.jpg', profile_image_url_https='https://pbs.twimg.com/profile_images/1355942351437324288/CueGQXmB_normal.jpg', profile_banner_url='https://pbs.twimg.com/profile_banners/1016332488694788101/1610483677', profile_link_color='1DA1F2', profile_sidebar_border_color='C0DEED', profile_sidebar_fill_color='DDEEF6', profile_text_color='333333', profile_use_background_image=True, has_extended_profile=True, default_profile=True, default_profile_image=False, following=False, follow_request_sent=False, notifications=False, translator_type='none'), geo=None, coordinates=None, place=None, contributors=None, is_quote_status=False, retweet_count=0, favorite_count=0, favorited=False, retweeted=False, lang='en')"
      ]
     },
     "execution_count": 30,
     "metadata": {},
     "output_type": "execute_result"
    }
   ],
   "source": [
    "new_status.destroy()\n",
    "#Delete the tweet"
   ]
  },
  {
   "cell_type": "code",
   "execution_count": 32,
   "metadata": {},
   "outputs": [],
   "source": [
    "#Update tweet with media files i.e image \n",
    "img_obj = api.media_upload(\"two.jpg\")"
   ]
  },
  {
   "cell_type": "code",
   "execution_count": 33,
   "metadata": {},
   "outputs": [],
   "source": [
    "new_status = api.update_status(\"Hey, I'm Parth!\", media_ids=[img_obj.media_id_string])"
   ]
  },
  {
   "cell_type": "markdown",
   "metadata": {},
   "source": [
    "# Liked this project ???"
   ]
  },
  {
   "cell_type": "markdown",
   "metadata": {},
   "source": [
    "Star it on @Github"
   ]
  },
  {
   "cell_type": "markdown",
   "metadata": {},
   "source": [
    "# Reach out at"
   ]
  },
  {
   "cell_type": "markdown",
   "metadata": {},
   "source": [
    "@parthshingari28"
   ]
  }
 ],
 "metadata": {
  "kernelspec": {
   "display_name": "Python 3",
   "language": "python",
   "name": "python3"
  },
  "language_info": {
   "codemirror_mode": {
    "name": "ipython",
    "version": 3
   },
   "file_extension": ".py",
   "mimetype": "text/x-python",
   "name": "python",
   "nbconvert_exporter": "python",
   "pygments_lexer": "ipython3",
   "version": "3.7.3"
  }
 },
 "nbformat": 4,
 "nbformat_minor": 2
}
