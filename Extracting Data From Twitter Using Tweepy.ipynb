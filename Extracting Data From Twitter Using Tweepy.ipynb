{
 "cells": [
  {
   "cell_type": "markdown",
   "metadata": {},
   "source": [
    "# Extracting Data From Twitter Using Tweepy\n"
   ]
  },
  {
   "cell_type": "markdown",
   "metadata": {},
   "source": [
    "All of us know what is twitter, it is a popular social network where users share messages called tweets.\n",
    "And twitter allows us to mine the data of any user using Twitter API or Tweepy.\n",
    "The data will be tweets extracted from the user."
   ]
  },
  {
   "cell_type": "markdown",
   "metadata": {},
   "source": [
    "Here, we will be going to extract data from twitter using tweepy."
   ]
  },
  {
   "cell_type": "markdown",
   "metadata": {},
   "source": [
    "Tweepy is one of the library that should be installed using pip. Now in order to authorize our app to access Twitter on our behalf, we need to use the OAuth Interface. Tweepy provides the convenient Cursor interface to iterate through different types of objects. Twitter allows a maximum of 3200 tweets for extraction."
   ]
  },
  {
   "cell_type": "markdown",
   "metadata": {},
   "source": [
    "step1 : First of all create your twitter developer account. And from there you will get access to your twitter developer account, then generate keys like api, api secret key , bearer key ,access key and secret access key ."
   ]
  },
  {
   "cell_type": "markdown",
   "metadata": {},
   "source": [
    "step2 : Install tweepy using pip."
   ]
  },
  {
   "cell_type": "code",
   "execution_count": 1,
   "metadata": {},
   "outputs": [
    {
     "name": "stdout",
     "output_type": "stream",
     "text": [
      "Requirement already satisfied: tweepy in c:\\programdata\\anaconda3\\lib\\site-packages (3.10.0)\n",
      "Requirement already satisfied: requests-oauthlib>=0.7.0 in c:\\programdata\\anaconda3\\lib\\site-packages (from tweepy) (1.3.0)\n",
      "Requirement already satisfied: requests[socks]>=2.11.1 in c:\\programdata\\anaconda3\\lib\\site-packages (from tweepy) (2.22.0)\n",
      "Requirement already satisfied: six>=1.10.0 in c:\\programdata\\anaconda3\\lib\\site-packages (from tweepy) (1.12.0)\n",
      "Requirement already satisfied: oauthlib>=3.0.0 in c:\\programdata\\anaconda3\\lib\\site-packages (from requests-oauthlib>=0.7.0->tweepy) (3.1.0)\n",
      "Requirement already satisfied: chardet<3.1.0,>=3.0.2 in c:\\programdata\\anaconda3\\lib\\site-packages (from requests[socks]>=2.11.1->tweepy) (3.0.4)\n",
      "Requirement already satisfied: urllib3!=1.25.0,!=1.25.1,<1.26,>=1.21.1 in c:\\programdata\\anaconda3\\lib\\site-packages (from requests[socks]>=2.11.1->tweepy) (1.24.2)\n",
      "Requirement already satisfied: idna<2.9,>=2.5 in c:\\programdata\\anaconda3\\lib\\site-packages (from requests[socks]>=2.11.1->tweepy) (2.8)\n",
      "Requirement already satisfied: certifi>=2017.4.17 in c:\\programdata\\anaconda3\\lib\\site-packages (from requests[socks]>=2.11.1->tweepy) (2019.6.16)\n",
      "Requirement already satisfied: PySocks!=1.5.7,>=1.5.6; extra == \"socks\" in c:\\programdata\\anaconda3\\lib\\site-packages (from requests[socks]>=2.11.1->tweepy) (1.7.0)\n",
      "Note: you may need to restart the kernel to use updated packages.\n"
     ]
    }
   ],
   "source": [
    "pip install tweepy "
   ]
  },
  {
   "cell_type": "markdown",
   "metadata": {},
   "source": [
    "step3 : After installing tweepy , now import tweepy."
   ]
  },
  {
   "cell_type": "code",
   "execution_count": 2,
   "metadata": {},
   "outputs": [],
   "source": [
    "import tweepy"
   ]
  },
  {
   "cell_type": "markdown",
   "metadata": {},
   "source": [
    "step4 : Here, you guys need to fill your own api key, api secret key, access key and secret access key."
   ]
  },
  {
   "cell_type": "code",
   "execution_count": 3,
   "metadata": {},
   "outputs": [],
   "source": [
    "api_key = \"OVKM334M2Xi0YycArGU7EKNPE\"\n",
    "api_secret =\"oUfl2LGdZqp96q6StRUp1LWvndxLPilHeARoxWKPWWNmWzE25e\"\n",
    "access_key = \"1016332488694788101-LGkQaWUrc8AqC4OF0dWIBT8fC999za\"\n",
    "access_secret = \"PsQQ14NFgimdPWafe3WLVbVZpNYJ6v3wWAusRKH9UITHK\""
   ]
  },
  {
   "cell_type": "markdown",
   "metadata": {},
   "source": [
    "step5 : Function to extract tweets."
   ]
  },
  {
   "cell_type": "code",
   "execution_count": 4,
   "metadata": {},
   "outputs": [],
   "source": [
    "def get_tweets(username):\n",
    "    #Authorizing api key and api secret key\n",
    "    auth = tweepy.OAuthHandler(api_key, api_secret) \n",
    "    #Access to user's access key and access secret key\n",
    "    auth.set_access_token(access_key, access_secret) \n",
    "    #calling api\n",
    "    api = tweepy.API(auth) \n",
    "    #number of tweets to extracted i.e 1000 in this case\n",
    "    number_of_tweets=1000\n",
    "    tweets = api.user_timeline(screen_name=username) \n",
    "    tmp=[]  \n",
    "    tweets_for_csv = [tweet.text for tweet in tweets]\n",
    "    for j in tweets_for_csv: \n",
    "        tmp.append(j) \n",
    "        print(tmp)"
   ]
  },
  {
   "cell_type": "code",
   "execution_count": 6,
   "metadata": {},
   "outputs": [
    {
     "name": "stdout",
     "output_type": "stream",
     "text": [
      "['RT @elonmusk: Giga Berlin progress https://t.co/ekpG5qcbUi']\n",
      "['RT @elonmusk: Giga Berlin progress https://t.co/ekpG5qcbUi', 'It can cast front &amp; rear vehicle underbodies in a single piece each — down from 70+ parts for same sections previously']\n",
      "['RT @elonmusk: Giga Berlin progress https://t.co/ekpG5qcbUi', 'It can cast front &amp; rear vehicle underbodies in a single piece each — down from 70+ parts for same sections previously', 'World’s biggest die casting machine https://t.co/MegnFPKQfh']\n",
      "['RT @elonmusk: Giga Berlin progress https://t.co/ekpG5qcbUi', 'It can cast front &amp; rear vehicle underbodies in a single piece each — down from 70+ parts for same sections previously', 'World’s biggest die casting machine https://t.co/MegnFPKQfh', 'Proud to have scored 100/100 in LGBTQ equality for the 6th year in a row 🏳️\\u200d🌈 https://t.co/zz3PeKRRSL']\n",
      "['RT @elonmusk: Giga Berlin progress https://t.co/ekpG5qcbUi', 'It can cast front &amp; rear vehicle underbodies in a single piece each — down from 70+ parts for same sections previously', 'World’s biggest die casting machine https://t.co/MegnFPKQfh', 'Proud to have scored 100/100 in LGBTQ equality for the 6th year in a row 🏳️\\u200d🌈 https://t.co/zz3PeKRRSL', 'RT @elonmusk: Plaid Model S ships next month https://t.co/HFUPTnQiPB']\n",
      "['RT @elonmusk: Giga Berlin progress https://t.co/ekpG5qcbUi', 'It can cast front &amp; rear vehicle underbodies in a single piece each — down from 70+ parts for same sections previously', 'World’s biggest die casting machine https://t.co/MegnFPKQfh', 'Proud to have scored 100/100 in LGBTQ equality for the 6th year in a row 🏳️\\u200d🌈 https://t.co/zz3PeKRRSL', 'RT @elonmusk: Plaid Model S ships next month https://t.co/HFUPTnQiPB', 'Plaid Model X has the quickest acceleration of any SUV by far, at 2.5 seconds 0-60']\n",
      "['RT @elonmusk: Giga Berlin progress https://t.co/ekpG5qcbUi', 'It can cast front &amp; rear vehicle underbodies in a single piece each — down from 70+ parts for same sections previously', 'World’s biggest die casting machine https://t.co/MegnFPKQfh', 'Proud to have scored 100/100 in LGBTQ equality for the 6th year in a row 🏳️\\u200d🌈 https://t.co/zz3PeKRRSL', 'RT @elonmusk: Plaid Model S ships next month https://t.co/HFUPTnQiPB', 'Plaid Model X has the quickest acceleration of any SUV by far, at 2.5 seconds 0-60', 'Plaid Model S is the first production car to achieve 0-60 in under 2 seconds']\n",
      "['RT @elonmusk: Giga Berlin progress https://t.co/ekpG5qcbUi', 'It can cast front &amp; rear vehicle underbodies in a single piece each — down from 70+ parts for same sections previously', 'World’s biggest die casting machine https://t.co/MegnFPKQfh', 'Proud to have scored 100/100 in LGBTQ equality for the 6th year in a row 🏳️\\u200d🌈 https://t.co/zz3PeKRRSL', 'RT @elonmusk: Plaid Model S ships next month https://t.co/HFUPTnQiPB', 'Plaid Model X has the quickest acceleration of any SUV by far, at 2.5 seconds 0-60', 'Plaid Model S is the first production car to achieve 0-60 in under 2 seconds', 'You can play The Witcher 3, Cyberpunk &amp; many more']\n",
      "['RT @elonmusk: Giga Berlin progress https://t.co/ekpG5qcbUi', 'It can cast front &amp; rear vehicle underbodies in a single piece each — down from 70+ parts for same sections previously', 'World’s biggest die casting machine https://t.co/MegnFPKQfh', 'Proud to have scored 100/100 in LGBTQ equality for the 6th year in a row 🏳️\\u200d🌈 https://t.co/zz3PeKRRSL', 'RT @elonmusk: Plaid Model S ships next month https://t.co/HFUPTnQiPB', 'Plaid Model X has the quickest acceleration of any SUV by far, at 2.5 seconds 0-60', 'Plaid Model S is the first production car to achieve 0-60 in under 2 seconds', 'You can play The Witcher 3, Cyberpunk &amp; many more', 'New Model S &amp; Model X just launched\\n\\nDetails https://t.co/7Ol1BvJoj8']\n",
      "['RT @elonmusk: Giga Berlin progress https://t.co/ekpG5qcbUi', 'It can cast front &amp; rear vehicle underbodies in a single piece each — down from 70+ parts for same sections previously', 'World’s biggest die casting machine https://t.co/MegnFPKQfh', 'Proud to have scored 100/100 in LGBTQ equality for the 6th year in a row 🏳️\\u200d🌈 https://t.co/zz3PeKRRSL', 'RT @elonmusk: Plaid Model S ships next month https://t.co/HFUPTnQiPB', 'Plaid Model X has the quickest acceleration of any SUV by far, at 2.5 seconds 0-60', 'Plaid Model S is the first production car to achieve 0-60 in under 2 seconds', 'You can play The Witcher 3, Cyberpunk &amp; many more', 'New Model S &amp; Model X just launched\\n\\nDetails https://t.co/7Ol1BvJoj8', 'Also, Model 3 frunks https://t.co/Up848EP3mk']\n",
      "['RT @elonmusk: Giga Berlin progress https://t.co/ekpG5qcbUi', 'It can cast front &amp; rear vehicle underbodies in a single piece each — down from 70+ parts for same sections previously', 'World’s biggest die casting machine https://t.co/MegnFPKQfh', 'Proud to have scored 100/100 in LGBTQ equality for the 6th year in a row 🏳️\\u200d🌈 https://t.co/zz3PeKRRSL', 'RT @elonmusk: Plaid Model S ships next month https://t.co/HFUPTnQiPB', 'Plaid Model X has the quickest acceleration of any SUV by far, at 2.5 seconds 0-60', 'Plaid Model S is the first production car to achieve 0-60 in under 2 seconds', 'You can play The Witcher 3, Cyberpunk &amp; many more', 'New Model S &amp; Model X just launched\\n\\nDetails https://t.co/7Ol1BvJoj8', 'Also, Model 3 frunks https://t.co/Up848EP3mk', 'Stamping Model Y body parts at our Fremont factory https://t.co/qbLrYowJRC']\n",
      "['RT @elonmusk: Giga Berlin progress https://t.co/ekpG5qcbUi', 'It can cast front &amp; rear vehicle underbodies in a single piece each — down from 70+ parts for same sections previously', 'World’s biggest die casting machine https://t.co/MegnFPKQfh', 'Proud to have scored 100/100 in LGBTQ equality for the 6th year in a row 🏳️\\u200d🌈 https://t.co/zz3PeKRRSL', 'RT @elonmusk: Plaid Model S ships next month https://t.co/HFUPTnQiPB', 'Plaid Model X has the quickest acceleration of any SUV by far, at 2.5 seconds 0-60', 'Plaid Model S is the first production car to achieve 0-60 in under 2 seconds', 'You can play The Witcher 3, Cyberpunk &amp; many more', 'New Model S &amp; Model X just launched\\n\\nDetails https://t.co/7Ol1BvJoj8', 'Also, Model 3 frunks https://t.co/Up848EP3mk', 'Stamping Model Y body parts at our Fremont factory https://t.co/qbLrYowJRC', '欢迎! Model Y deliveries in China have officially begun 🚘🇨🇳 https://t.co/fG5aax1k2b']\n",
      "['RT @elonmusk: Giga Berlin progress https://t.co/ekpG5qcbUi', 'It can cast front &amp; rear vehicle underbodies in a single piece each — down from 70+ parts for same sections previously', 'World’s biggest die casting machine https://t.co/MegnFPKQfh', 'Proud to have scored 100/100 in LGBTQ equality for the 6th year in a row 🏳️\\u200d🌈 https://t.co/zz3PeKRRSL', 'RT @elonmusk: Plaid Model S ships next month https://t.co/HFUPTnQiPB', 'Plaid Model X has the quickest acceleration of any SUV by far, at 2.5 seconds 0-60', 'Plaid Model S is the first production car to achieve 0-60 in under 2 seconds', 'You can play The Witcher 3, Cyberpunk &amp; many more', 'New Model S &amp; Model X just launched\\n\\nDetails https://t.co/7Ol1BvJoj8', 'Also, Model 3 frunks https://t.co/Up848EP3mk', 'Stamping Model Y body parts at our Fremont factory https://t.co/qbLrYowJRC', '欢迎! Model Y deliveries in China have officially begun 🚘🇨🇳 https://t.co/fG5aax1k2b', 'Come work on cell / battery production at Giga Texas &amp; Giga Berlin! https://t.co/PhsI5bb0uD https://t.co/jEUatMLDmE']\n",
      "['RT @elonmusk: Giga Berlin progress https://t.co/ekpG5qcbUi', 'It can cast front &amp; rear vehicle underbodies in a single piece each — down from 70+ parts for same sections previously', 'World’s biggest die casting machine https://t.co/MegnFPKQfh', 'Proud to have scored 100/100 in LGBTQ equality for the 6th year in a row 🏳️\\u200d🌈 https://t.co/zz3PeKRRSL', 'RT @elonmusk: Plaid Model S ships next month https://t.co/HFUPTnQiPB', 'Plaid Model X has the quickest acceleration of any SUV by far, at 2.5 seconds 0-60', 'Plaid Model S is the first production car to achieve 0-60 in under 2 seconds', 'You can play The Witcher 3, Cyberpunk &amp; many more', 'New Model S &amp; Model X just launched\\n\\nDetails https://t.co/7Ol1BvJoj8', 'Also, Model 3 frunks https://t.co/Up848EP3mk', 'Stamping Model Y body parts at our Fremont factory https://t.co/qbLrYowJRC', '欢迎! Model Y deliveries in China have officially begun 🚘🇨🇳 https://t.co/fG5aax1k2b', 'Come work on cell / battery production at Giga Texas &amp; Giga Berlin! https://t.co/PhsI5bb0uD https://t.co/jEUatMLDmE', 'The best crash is no crash — with Autopilot enabled, you are 7x less likely to be involved in an accident.\\n\\nComes s… https://t.co/SX6L1XqIVa']\n",
      "['RT @elonmusk: Giga Berlin progress https://t.co/ekpG5qcbUi', 'It can cast front &amp; rear vehicle underbodies in a single piece each — down from 70+ parts for same sections previously', 'World’s biggest die casting machine https://t.co/MegnFPKQfh', 'Proud to have scored 100/100 in LGBTQ equality for the 6th year in a row 🏳️\\u200d🌈 https://t.co/zz3PeKRRSL', 'RT @elonmusk: Plaid Model S ships next month https://t.co/HFUPTnQiPB', 'Plaid Model X has the quickest acceleration of any SUV by far, at 2.5 seconds 0-60', 'Plaid Model S is the first production car to achieve 0-60 in under 2 seconds', 'You can play The Witcher 3, Cyberpunk &amp; many more', 'New Model S &amp; Model X just launched\\n\\nDetails https://t.co/7Ol1BvJoj8', 'Also, Model 3 frunks https://t.co/Up848EP3mk', 'Stamping Model Y body parts at our Fremont factory https://t.co/qbLrYowJRC', '欢迎! Model Y deliveries in China have officially begun 🚘🇨🇳 https://t.co/fG5aax1k2b', 'Come work on cell / battery production at Giga Texas &amp; Giga Berlin! https://t.co/PhsI5bb0uD https://t.co/jEUatMLDmE', 'The best crash is no crash — with Autopilot enabled, you are 7x less likely to be involved in an accident.\\n\\nComes s… https://t.co/SX6L1XqIVa', 'Large crumple zones, rigid body structure &amp; low center of gravity really make a difference https://t.co/Gmwoh7a1gz']\n",
      "['RT @elonmusk: Giga Berlin progress https://t.co/ekpG5qcbUi', 'It can cast front &amp; rear vehicle underbodies in a single piece each — down from 70+ parts for same sections previously', 'World’s biggest die casting machine https://t.co/MegnFPKQfh', 'Proud to have scored 100/100 in LGBTQ equality for the 6th year in a row 🏳️\\u200d🌈 https://t.co/zz3PeKRRSL', 'RT @elonmusk: Plaid Model S ships next month https://t.co/HFUPTnQiPB', 'Plaid Model X has the quickest acceleration of any SUV by far, at 2.5 seconds 0-60', 'Plaid Model S is the first production car to achieve 0-60 in under 2 seconds', 'You can play The Witcher 3, Cyberpunk &amp; many more', 'New Model S &amp; Model X just launched\\n\\nDetails https://t.co/7Ol1BvJoj8', 'Also, Model 3 frunks https://t.co/Up848EP3mk', 'Stamping Model Y body parts at our Fremont factory https://t.co/qbLrYowJRC', '欢迎! Model Y deliveries in China have officially begun 🚘🇨🇳 https://t.co/fG5aax1k2b', 'Come work on cell / battery production at Giga Texas &amp; Giga Berlin! https://t.co/PhsI5bb0uD https://t.co/jEUatMLDmE', 'The best crash is no crash — with Autopilot enabled, you are 7x less likely to be involved in an accident.\\n\\nComes s… https://t.co/SX6L1XqIVa', 'Large crumple zones, rigid body structure &amp; low center of gravity really make a difference https://t.co/Gmwoh7a1gz', 'Model Y awarded 5-star safety rating in every category!\\nhttps://t.co/dgbQWofpjf']\n",
      "['RT @elonmusk: Giga Berlin progress https://t.co/ekpG5qcbUi', 'It can cast front &amp; rear vehicle underbodies in a single piece each — down from 70+ parts for same sections previously', 'World’s biggest die casting machine https://t.co/MegnFPKQfh', 'Proud to have scored 100/100 in LGBTQ equality for the 6th year in a row 🏳️\\u200d🌈 https://t.co/zz3PeKRRSL', 'RT @elonmusk: Plaid Model S ships next month https://t.co/HFUPTnQiPB', 'Plaid Model X has the quickest acceleration of any SUV by far, at 2.5 seconds 0-60', 'Plaid Model S is the first production car to achieve 0-60 in under 2 seconds', 'You can play The Witcher 3, Cyberpunk &amp; many more', 'New Model S &amp; Model X just launched\\n\\nDetails https://t.co/7Ol1BvJoj8', 'Also, Model 3 frunks https://t.co/Up848EP3mk', 'Stamping Model Y body parts at our Fremont factory https://t.co/qbLrYowJRC', '欢迎! Model Y deliveries in China have officially begun 🚘🇨🇳 https://t.co/fG5aax1k2b', 'Come work on cell / battery production at Giga Texas &amp; Giga Berlin! https://t.co/PhsI5bb0uD https://t.co/jEUatMLDmE', 'The best crash is no crash — with Autopilot enabled, you are 7x less likely to be involved in an accident.\\n\\nComes s… https://t.co/SX6L1XqIVa', 'Large crumple zones, rigid body structure &amp; low center of gravity really make a difference https://t.co/Gmwoh7a1gz', 'Model Y awarded 5-star safety rating in every category!\\nhttps://t.co/dgbQWofpjf', 'RT @TonyChoMrMagic: I just installed the largest (44KW) solar roof in Florida  @teslaenergy @ ChoZen Retreat @livechozen, Thank you @elonmu…']\n",
      "['RT @elonmusk: Giga Berlin progress https://t.co/ekpG5qcbUi', 'It can cast front &amp; rear vehicle underbodies in a single piece each — down from 70+ parts for same sections previously', 'World’s biggest die casting machine https://t.co/MegnFPKQfh', 'Proud to have scored 100/100 in LGBTQ equality for the 6th year in a row 🏳️\\u200d🌈 https://t.co/zz3PeKRRSL', 'RT @elonmusk: Plaid Model S ships next month https://t.co/HFUPTnQiPB', 'Plaid Model X has the quickest acceleration of any SUV by far, at 2.5 seconds 0-60', 'Plaid Model S is the first production car to achieve 0-60 in under 2 seconds', 'You can play The Witcher 3, Cyberpunk &amp; many more', 'New Model S &amp; Model X just launched\\n\\nDetails https://t.co/7Ol1BvJoj8', 'Also, Model 3 frunks https://t.co/Up848EP3mk', 'Stamping Model Y body parts at our Fremont factory https://t.co/qbLrYowJRC', '欢迎! Model Y deliveries in China have officially begun 🚘🇨🇳 https://t.co/fG5aax1k2b', 'Come work on cell / battery production at Giga Texas &amp; Giga Berlin! https://t.co/PhsI5bb0uD https://t.co/jEUatMLDmE', 'The best crash is no crash — with Autopilot enabled, you are 7x less likely to be involved in an accident.\\n\\nComes s… https://t.co/SX6L1XqIVa', 'Large crumple zones, rigid body structure &amp; low center of gravity really make a difference https://t.co/Gmwoh7a1gz', 'Model Y awarded 5-star safety rating in every category!\\nhttps://t.co/dgbQWofpjf', 'RT @TonyChoMrMagic: I just installed the largest (44KW) solar roof in Florida  @teslaenergy @ ChoZen Retreat @livechozen, Thank you @elonmu…', 'The 7-seater option is now available for order on Model Y https://t.co/XLu84G3GJc']\n",
      "['RT @elonmusk: Giga Berlin progress https://t.co/ekpG5qcbUi', 'It can cast front &amp; rear vehicle underbodies in a single piece each — down from 70+ parts for same sections previously', 'World’s biggest die casting machine https://t.co/MegnFPKQfh', 'Proud to have scored 100/100 in LGBTQ equality for the 6th year in a row 🏳️\\u200d🌈 https://t.co/zz3PeKRRSL', 'RT @elonmusk: Plaid Model S ships next month https://t.co/HFUPTnQiPB', 'Plaid Model X has the quickest acceleration of any SUV by far, at 2.5 seconds 0-60', 'Plaid Model S is the first production car to achieve 0-60 in under 2 seconds', 'You can play The Witcher 3, Cyberpunk &amp; many more', 'New Model S &amp; Model X just launched\\n\\nDetails https://t.co/7Ol1BvJoj8', 'Also, Model 3 frunks https://t.co/Up848EP3mk', 'Stamping Model Y body parts at our Fremont factory https://t.co/qbLrYowJRC', '欢迎! Model Y deliveries in China have officially begun 🚘🇨🇳 https://t.co/fG5aax1k2b', 'Come work on cell / battery production at Giga Texas &amp; Giga Berlin! https://t.co/PhsI5bb0uD https://t.co/jEUatMLDmE', 'The best crash is no crash — with Autopilot enabled, you are 7x less likely to be involved in an accident.\\n\\nComes s… https://t.co/SX6L1XqIVa', 'Large crumple zones, rigid body structure &amp; low center of gravity really make a difference https://t.co/Gmwoh7a1gz', 'Model Y awarded 5-star safety rating in every category!\\nhttps://t.co/dgbQWofpjf', 'RT @TonyChoMrMagic: I just installed the largest (44KW) solar roof in Florida  @teslaenergy @ ChoZen Retreat @livechozen, Thank you @elonmu…', 'The 7-seater option is now available for order on Model Y https://t.co/XLu84G3GJc', 'Model Y Standard Range is now available to order for $41,990\\n \\n- 244 mile range (EPA est.)\\n- Rear-wheel drive\\n- 0-6… https://t.co/FI1VWXAxQX']\n",
      "['RT @elonmusk: Giga Berlin progress https://t.co/ekpG5qcbUi', 'It can cast front &amp; rear vehicle underbodies in a single piece each — down from 70+ parts for same sections previously', 'World’s biggest die casting machine https://t.co/MegnFPKQfh', 'Proud to have scored 100/100 in LGBTQ equality for the 6th year in a row 🏳️\\u200d🌈 https://t.co/zz3PeKRRSL', 'RT @elonmusk: Plaid Model S ships next month https://t.co/HFUPTnQiPB', 'Plaid Model X has the quickest acceleration of any SUV by far, at 2.5 seconds 0-60', 'Plaid Model S is the first production car to achieve 0-60 in under 2 seconds', 'You can play The Witcher 3, Cyberpunk &amp; many more', 'New Model S &amp; Model X just launched\\n\\nDetails https://t.co/7Ol1BvJoj8', 'Also, Model 3 frunks https://t.co/Up848EP3mk', 'Stamping Model Y body parts at our Fremont factory https://t.co/qbLrYowJRC', '欢迎! Model Y deliveries in China have officially begun 🚘🇨🇳 https://t.co/fG5aax1k2b', 'Come work on cell / battery production at Giga Texas &amp; Giga Berlin! https://t.co/PhsI5bb0uD https://t.co/jEUatMLDmE', 'The best crash is no crash — with Autopilot enabled, you are 7x less likely to be involved in an accident.\\n\\nComes s… https://t.co/SX6L1XqIVa', 'Large crumple zones, rigid body structure &amp; low center of gravity really make a difference https://t.co/Gmwoh7a1gz', 'Model Y awarded 5-star safety rating in every category!\\nhttps://t.co/dgbQWofpjf', 'RT @TonyChoMrMagic: I just installed the largest (44KW) solar roof in Florida  @teslaenergy @ ChoZen Retreat @livechozen, Thank you @elonmu…', 'The 7-seater option is now available for order on Model Y https://t.co/XLu84G3GJc', 'Model Y Standard Range is now available to order for $41,990\\n \\n- 244 mile range (EPA est.)\\n- Rear-wheel drive\\n- 0-6… https://t.co/FI1VWXAxQX', 'In 2020, we produced and delivered half a million cars. Huge thanks to all those who made this possible.\\nhttps://t.co/q43vz6RMhd']\n"
     ]
    }
   ],
   "source": [
    "if __name__ == '__main__': \n",
    "    get_tweets(\"tesla\")"
   ]
  },
  {
   "cell_type": "markdown",
   "metadata": {},
   "source": [
    "# Now what ???"
   ]
  },
  {
   "cell_type": "markdown",
   "metadata": {},
   "source": [
    "As Once you have collected some data, the possibilities in terms of analytics applications are endless.\n",
    "Hunt for millions of projects which suit your tech-stack and start contributing."
   ]
  },
  {
   "cell_type": "markdown",
   "metadata": {},
   "source": [
    "# Liked this project ???"
   ]
  },
  {
   "cell_type": "markdown",
   "metadata": {},
   "source": [
    "Star it on @Github"
   ]
  },
  {
   "cell_type": "markdown",
   "metadata": {},
   "source": [
    "# Reach Out at"
   ]
  },
  {
   "cell_type": "markdown",
   "metadata": {},
   "source": [
    "@parthshingari28"
   ]
  }
 ],
 "metadata": {
  "kernelspec": {
   "display_name": "Python 3",
   "language": "python",
   "name": "python3"
  },
  "language_info": {
   "codemirror_mode": {
    "name": "ipython",
    "version": 3
   },
   "file_extension": ".py",
   "mimetype": "text/x-python",
   "name": "python",
   "nbconvert_exporter": "python",
   "pygments_lexer": "ipython3",
   "version": "3.7.3"
  }
 },
 "nbformat": 4,
 "nbformat_minor": 2
}
